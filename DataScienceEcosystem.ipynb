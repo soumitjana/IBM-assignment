{
 "cells": [
  {
   "cell_type": "markdown",
   "id": "a800b43e",
   "metadata": {},
   "source": [
    "# Data Science Tools and Ecosystem"
   ]
  },
  {
   "cell_type": "markdown",
   "id": "06da5c5b",
   "metadata": {},
   "source": [
    "In this notebook, Data Science Tools and Ecosystem are summarized.\n"
   ]
  },
  {
   "cell_type": "markdown",
   "id": "bab777eb",
   "metadata": {},
   "source": [
    "**Objectives:**\n",
    "* List popular languages for Data Science\n",
    "* List open source tools used in data science\n",
    "* Use RStudio and Jupyter "
   ]
  },
  {
   "cell_type": "markdown",
   "id": "3a359d73",
   "metadata": {},
   "source": [
    "Some of the popular languages that Data Scientists use are:\n",
    "1. Python\n",
    "2. R\n",
    "3. Julia\n",
    "4. JAVA\n",
    "5. JavaScript"
   ]
  },
  {
   "cell_type": "markdown",
   "id": "bb7b1d42",
   "metadata": {},
   "source": [
    "Some of the commonly used libraries used by Data Scientists include:\n",
    "1. NumPy\n",
    "2. Pandas\n",
    "3. Matplotlib\n",
    "4. Tensorflow"
   ]
  },
  {
   "cell_type": "markdown",
   "id": "0a17d9c0",
   "metadata": {},
   "source": [
    "| Data Science Tools |\n",
    "| ---|\n",
    "| RStudio |\n",
    "| Jupyter Notebook |\n",
    "| Spyder |"
   ]
  },
  {
   "cell_type": "markdown",
   "id": "15d34edb",
   "metadata": {},
   "source": [
    "### Below are a few examples of evaluating arithmetic expressions in Python."
   ]
  },
  {
   "cell_type": "code",
   "execution_count": 1,
   "id": "b955fab3",
   "metadata": {},
   "outputs": [
    {
     "data": {
      "text/plain": [
       "17"
      ]
     },
     "execution_count": 1,
     "metadata": {},
     "output_type": "execute_result"
    }
   ],
   "source": [
    "(3*4)+5\n",
    "#This a simple arithmetic expression to mutiply then add integers"
   ]
  },
  {
   "cell_type": "code",
   "execution_count": 2,
   "id": "d5ef4c9d",
   "metadata": {},
   "outputs": [
    {
     "name": "stdout",
     "output_type": "stream",
     "text": [
      "3.3333333333333335\n"
     ]
    }
   ],
   "source": [
    "minutes = 200\n",
    "hours = minutes / 60\n",
    "#This will convert 200 minutes to hours by diving by 60\n",
    "print(hours)"
   ]
  },
  {
   "cell_type": "markdown",
   "id": "62527514",
   "metadata": {},
   "source": [
    "## Author\n",
    "Soumit Jana"
   ]
  },
  {
   "cell_type": "code",
   "execution_count": null,
   "id": "0077c58f",
   "metadata": {},
   "outputs": [],
   "source": []
  }
 ],
 "metadata": {
  "kernelspec": {
   "display_name": "secondenv",
   "language": "python",
   "name": "secondenv"
  },
  "language_info": {
   "codemirror_mode": {
    "name": "ipython",
    "version": 3
   },
   "file_extension": ".py",
   "mimetype": "text/x-python",
   "name": "python",
   "nbconvert_exporter": "python",
   "pygments_lexer": "ipython3",
   "version": "3.11.4"
  }
 },
 "nbformat": 4,
 "nbformat_minor": 5
}
